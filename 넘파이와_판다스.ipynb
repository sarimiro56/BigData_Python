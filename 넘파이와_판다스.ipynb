{
  "nbformat": 4,
  "nbformat_minor": 0,
  "metadata": {
    "colab": {
      "provenance": [],
      "authorship_tag": "ABX9TyPLuC6HYfyUW2pjAvSSqaiF",
      "include_colab_link": true
    },
    "kernelspec": {
      "name": "python3",
      "display_name": "Python 3"
    },
    "language_info": {
      "name": "python"
    }
  },
  "cells": [
    {
      "cell_type": "markdown",
      "metadata": {
        "id": "view-in-github",
        "colab_type": "text"
      },
      "source": [
        "<a href=\"https://colab.research.google.com/github/sarimiro56/BigData_Python/blob/main/%EB%84%98%ED%8C%8C%EC%9D%B4%EC%99%80_%ED%8C%90%EB%8B%A4%EC%8A%A4.ipynb\" target=\"_parent\"><img src=\"https://colab.research.google.com/assets/colab-badge.svg\" alt=\"Open In Colab\"/></a>"
      ]
    },
    {
      "cell_type": "code",
      "execution_count": 1,
      "metadata": {
        "colab": {
          "base_uri": "https://localhost:8080/"
        },
        "id": "7ThV41cg4lAx",
        "outputId": "285f3414-a74f-4708-b45a-4b5f5e8dcad0"
      },
      "outputs": [
        {
          "output_type": "stream",
          "name": "stdout",
          "text": [
            "a.shape:  (4,)\n",
            "a[0]:  1\n",
            "b.shape:  (2, 3)\n",
            "b[0,0]:  1\n",
            "b[0]:  [1 2 3]\n"
          ]
        }
      ],
      "source": [
        "import numpy as np\n",
        "\n",
        "list1 = [1, 2, 3, 4]\n",
        "a = np.array(list1)\n",
        "print('a.shape: ', a.shape)\n",
        "print('a[0]: ', a[0])\n",
        "\n",
        "b = np.array([[1, 2, 3], [4, 5, 6]])\n",
        "print('b.shape: ', b.shape)\n",
        "print('b[0,0]: ', b[0,0])\n",
        "print('b[0]: ', b[0])"
      ]
    },
    {
      "cell_type": "code",
      "source": [
        "a = np.zeros(2)\n",
        "print('a\\n', a)\n",
        "b = np.zeros((2,2))\n",
        "print('b\\n', b)\n",
        "c = np.ones((2,3))\n",
        "print('c\\n', c)\n",
        "d = np.full((2,3), 5)\n",
        "print('d\\n', d)\n",
        "e = np.eye(3)\n",
        "print('e\\n', e)"
      ],
      "metadata": {
        "colab": {
          "base_uri": "https://localhost:8080/"
        },
        "id": "ncH7fNoiF2GG",
        "outputId": "20b3349a-8a93-4235-9fe7-e27c379dbc9a"
      },
      "execution_count": 2,
      "outputs": [
        {
          "output_type": "stream",
          "name": "stdout",
          "text": [
            "a\n",
            " [0. 0.]\n",
            "b\n",
            " [[0. 0.]\n",
            " [0. 0.]]\n",
            "c\n",
            " [[1. 1. 1.]\n",
            " [1. 1. 1.]]\n",
            "d\n",
            " [[5 5 5]\n",
            " [5 5 5]]\n",
            "e\n",
            " [[1. 0. 0.]\n",
            " [0. 1. 0.]\n",
            " [0. 0. 1.]]\n"
          ]
        }
      ]
    },
    {
      "cell_type": "code",
      "source": [
        "import matplotlib.pyplot as plt\n",
        "import numpy as np\n",
        "\n",
        "x = np.linspace(1, 10, 22)\n",
        "print(x)\n",
        "#x = np.arange(1, 11, 0.1)\n",
        "#print(x)\n",
        "#y = np.sin(x)\n",
        "#plt.plot(x, y)"
      ],
      "metadata": {
        "colab": {
          "base_uri": "https://localhost:8080/"
        },
        "id": "4oHmG9LmGPEU",
        "outputId": "602ac918-a822-4011-cfba-1e6b145b203b"
      },
      "execution_count": 7,
      "outputs": [
        {
          "output_type": "stream",
          "name": "stdout",
          "text": [
            "[ 1.          1.42857143  1.85714286  2.28571429  2.71428571  3.14285714\n",
            "  3.57142857  4.          4.42857143  4.85714286  5.28571429  5.71428571\n",
            "  6.14285714  6.57142857  7.          7.42857143  7.85714286  8.28571429\n",
            "  8.71428571  9.14285714  9.57142857 10.        ]\n"
          ]
        }
      ]
    },
    {
      "cell_type": "code",
      "source": [
        "a = np.array([1, 2], dtype=np.float64)\n",
        "print(a)\n",
        "print(a.dtype)\n",
        "\n",
        "a_i8 = a.astype(np.int8)\n",
        "print(a_i8)\n",
        "print(a_i8.dtype)"
      ],
      "metadata": {
        "colab": {
          "base_uri": "https://localhost:8080/"
        },
        "id": "9q55FLx5Iw0k",
        "outputId": "230f0435-a50b-4757-c291-e709248e2597"
      },
      "execution_count": 10,
      "outputs": [
        {
          "output_type": "stream",
          "name": "stdout",
          "text": [
            "[1. 2.]\n",
            "float64\n",
            "[1 2]\n",
            "int8\n"
          ]
        }
      ]
    },
    {
      "cell_type": "code",
      "source": [
        "arr = np.array([[0, 1, 2], [3, 4, 5]])\n",
        "print('type(arr):',type(arr))\n",
        "print('arr.ndim:',arr.ndim)\n",
        "print('arr.dtype:',arr.dtype)\n",
        "print('arr.itemsize:',arr.itemsize)\n",
        "print('arr.size:',arr.size)\n",
        "print('arr.nbytes:',arr.nbytes)\n",
        "print('arr.shape:',arr.shape)\n",
        "print('arr:\\n',arr)\n",
        "print('arr.T:\\n',arr.T)\n",
        "print('arr.shape:',arr.shape)"
      ],
      "metadata": {
        "colab": {
          "base_uri": "https://localhost:8080/"
        },
        "id": "XOIl8dOKLcD7",
        "outputId": "545b3981-2451-4014-ed82-6eec2ddebcb9"
      },
      "execution_count": 12,
      "outputs": [
        {
          "output_type": "stream",
          "name": "stdout",
          "text": [
            "type(arr): <class 'numpy.ndarray'>\n",
            "arr.ndim: 2\n",
            "arr.dtype: int64\n",
            "arr.itemsize: 8\n",
            "arr.size: 6\n",
            "arr.nbytes: 48\n",
            "arr.shape: (2, 3)\n",
            "arr:\n",
            " [[0 1 2]\n",
            " [3 4 5]]\n",
            "arr.T:\n",
            " [[0 3]\n",
            " [1 4]\n",
            " [2 5]]\n",
            "arr.shape: (2, 3)\n"
          ]
        }
      ]
    },
    {
      "cell_type": "code",
      "source": [
        "a = np.arange(8)\n",
        "print('a\\n', a)\n",
        "\n",
        "a.shape = (2,4)\n",
        "print('shape\\n', a)\n",
        "\n",
        "print('flatten\\n', a.flatten( ))\n",
        "\n",
        "a.resize((4,2))\n",
        "print('resize\\n', a)\n",
        "b = a.transpose()\n",
        "print(b)"
      ],
      "metadata": {
        "colab": {
          "base_uri": "https://localhost:8080/"
        },
        "id": "CTi6dz-XLg4d",
        "outputId": "1581107a-c5f4-46a9-c488-541e7b71f178"
      },
      "execution_count": 15,
      "outputs": [
        {
          "output_type": "stream",
          "name": "stdout",
          "text": [
            "a\n",
            " [0 1 2 3 4 5 6 7]\n",
            "shape\n",
            " [[0 1 2 3]\n",
            " [4 5 6 7]]\n",
            "flatten\n",
            " [0 1 2 3 4 5 6 7]\n",
            "resize\n",
            " [[0 1]\n",
            " [2 3]\n",
            " [4 5]\n",
            " [6 7]]\n",
            "[[0 2 4 6]\n",
            " [1 3 5 7]]\n"
          ]
        }
      ]
    },
    {
      "cell_type": "code",
      "source": [
        "a = np.array([[0, 1, 2], [3, 4, 5]])\n",
        "print('a\\n', a)\n",
        "b = a.transpose( )\n",
        "print('b\\n', b)\n",
        "c = a.T\n",
        "print('c\\n', c)"
      ],
      "metadata": {
        "colab": {
          "base_uri": "https://localhost:8080/"
        },
        "id": "Fli23BevLk-S",
        "outputId": "dbc24f56-aebf-4847-e2a9-d1a5fa4fe7e8"
      },
      "execution_count": 16,
      "outputs": [
        {
          "output_type": "stream",
          "name": "stdout",
          "text": [
            "a\n",
            " [[0 1 2]\n",
            " [3 4 5]]\n",
            "b\n",
            " [[0 3]\n",
            " [1 4]\n",
            " [2 5]]\n",
            "c\n",
            " [[0 3]\n",
            " [1 4]\n",
            " [2 5]]\n"
          ]
        }
      ]
    },
    {
      "cell_type": "code",
      "source": [
        "mask = np.array([0, 1, 1, 0], dtype=bool)\n",
        "print(mask)\n",
        "data = np.random.randn(4,2)\n",
        "print('\\ndata 출력\\n',data) #랜덤 데이터 배열 data는 책과 다르게 나타남\n",
        "print('\\n마스킹된 데이터 출력\\n',data[mask])\n",
        "print('\\n마스킹 역전된 데이터 출력\\n',data[~mask])"
      ],
      "metadata": {
        "colab": {
          "base_uri": "https://localhost:8080/"
        },
        "id": "3jkmAmi9N_gD",
        "outputId": "06300010-51cb-49eb-c696-8f10efa4f17c"
      },
      "execution_count": 17,
      "outputs": [
        {
          "output_type": "stream",
          "name": "stdout",
          "text": [
            "[False  True  True False]\n",
            "\n",
            "data 출력\n",
            " [[ 0.46972224  0.35779419]\n",
            " [ 0.55574292 -1.26072426]\n",
            " [ 2.30261075 -0.04701626]\n",
            " [-1.28798932 -0.89082364]]\n",
            "\n",
            "마스킹된 데이터 출력\n",
            " [[ 0.55574292 -1.26072426]\n",
            " [ 2.30261075 -0.04701626]]\n",
            "\n",
            "마스킹 역전된 데이터 출력\n",
            " [[ 0.46972224  0.35779419]\n",
            " [-1.28798932 -0.89082364]]\n"
          ]
        }
      ]
    },
    {
      "cell_type": "code",
      "source": [
        "posit = data[data > 0]\n",
        "print('양수 데이터 출력', '\\n',posit)\n",
        "\n",
        "over1 = data[1][data[1] > 0]\n",
        "print('두 번째 행의 양수 데이터 출력','\\n',over1)"
      ],
      "metadata": {
        "id": "FttI3lOpOk66"
      },
      "execution_count": null,
      "outputs": []
    }
  ]
}