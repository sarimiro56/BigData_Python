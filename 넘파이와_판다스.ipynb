{
  "nbformat": 4,
  "nbformat_minor": 0,
  "metadata": {
    "colab": {
      "provenance": [],
      "authorship_tag": "ABX9TyPHV8j8qk63G5iUtx62gl1h",
      "include_colab_link": true
    },
    "kernelspec": {
      "name": "python3",
      "display_name": "Python 3"
    },
    "language_info": {
      "name": "python"
    }
  },
  "cells": [
    {
      "cell_type": "markdown",
      "metadata": {
        "id": "view-in-github",
        "colab_type": "text"
      },
      "source": [
        "<a href=\"https://colab.research.google.com/github/sarimiro56/BigData_Python/blob/main/%EB%84%98%ED%8C%8C%EC%9D%B4%EC%99%80_%ED%8C%90%EB%8B%A4%EC%8A%A4.ipynb\" target=\"_parent\"><img src=\"https://colab.research.google.com/assets/colab-badge.svg\" alt=\"Open In Colab\"/></a>"
      ]
    },
    {
      "cell_type": "code",
      "execution_count": 1,
      "metadata": {
        "colab": {
          "base_uri": "https://localhost:8080/"
        },
        "id": "7ThV41cg4lAx",
        "outputId": "285f3414-a74f-4708-b45a-4b5f5e8dcad0"
      },
      "outputs": [
        {
          "output_type": "stream",
          "name": "stdout",
          "text": [
            "a.shape:  (4,)\n",
            "a[0]:  1\n",
            "b.shape:  (2, 3)\n",
            "b[0,0]:  1\n",
            "b[0]:  [1 2 3]\n"
          ]
        }
      ],
      "source": [
        "import numpy as np\n",
        "\n",
        "list1 = [1, 2, 3, 4]\n",
        "a = np.array(list1)\n",
        "print('a.shape: ', a.shape)\n",
        "print('a[0]: ', a[0])\n",
        "\n",
        "b = np.array([[1, 2, 3], [4, 5, 6]])\n",
        "print('b.shape: ', b.shape)\n",
        "print('b[0,0]: ', b[0,0])\n",
        "print('b[0]: ', b[0])"
      ]
    },
    {
      "cell_type": "code",
      "source": [
        "a = np.zeros(2)\n",
        "print('a\\n', a)\n",
        "b = np.zeros((2,2))\n",
        "print('b\\n', b)\n",
        "c = np.ones((2,3))\n",
        "print('c\\n', c)\n",
        "d = np.full((2,3), 5)\n",
        "print('d\\n', d)\n",
        "e = np.eye(3)\n",
        "print('e\\n', e)"
      ],
      "metadata": {
        "colab": {
          "base_uri": "https://localhost:8080/"
        },
        "id": "ncH7fNoiF2GG",
        "outputId": "20b3349a-8a93-4235-9fe7-e27c379dbc9a"
      },
      "execution_count": 2,
      "outputs": [
        {
          "output_type": "stream",
          "name": "stdout",
          "text": [
            "a\n",
            " [0. 0.]\n",
            "b\n",
            " [[0. 0.]\n",
            " [0. 0.]]\n",
            "c\n",
            " [[1. 1. 1.]\n",
            " [1. 1. 1.]]\n",
            "d\n",
            " [[5 5 5]\n",
            " [5 5 5]]\n",
            "e\n",
            " [[1. 0. 0.]\n",
            " [0. 1. 0.]\n",
            " [0. 0. 1.]]\n"
          ]
        }
      ]
    },
    {
      "cell_type": "code",
      "source": [
        "import matplotlib.pyplot as plt\n",
        "import numpy as np\n",
        "\n",
        "x = np.linspace(1, 10, 22)\n",
        "print(x)\n",
        "#x = np.arange(1, 11, 0.1)\n",
        "#print(x)\n",
        "#y = np.sin(x)\n",
        "#plt.plot(x, y)"
      ],
      "metadata": {
        "colab": {
          "base_uri": "https://localhost:8080/"
        },
        "id": "4oHmG9LmGPEU",
        "outputId": "602ac918-a822-4011-cfba-1e6b145b203b"
      },
      "execution_count": 7,
      "outputs": [
        {
          "output_type": "stream",
          "name": "stdout",
          "text": [
            "[ 1.          1.42857143  1.85714286  2.28571429  2.71428571  3.14285714\n",
            "  3.57142857  4.          4.42857143  4.85714286  5.28571429  5.71428571\n",
            "  6.14285714  6.57142857  7.          7.42857143  7.85714286  8.28571429\n",
            "  8.71428571  9.14285714  9.57142857 10.        ]\n"
          ]
        }
      ]
    },
    {
      "cell_type": "code",
      "source": [
        "a = np.array([1, 2], dtype=np.float64)\n",
        "print(a)\n",
        "print(a.dtype)\n",
        "\n",
        "a_i8 = a.astype(np.int8)\n",
        "print(a_i8)\n",
        "print(a_i8.dtype)"
      ],
      "metadata": {
        "colab": {
          "base_uri": "https://localhost:8080/"
        },
        "id": "9q55FLx5Iw0k",
        "outputId": "230f0435-a50b-4757-c291-e709248e2597"
      },
      "execution_count": 10,
      "outputs": [
        {
          "output_type": "stream",
          "name": "stdout",
          "text": [
            "[1. 2.]\n",
            "float64\n",
            "[1 2]\n",
            "int8\n"
          ]
        }
      ]
    },
    {
      "cell_type": "code",
      "source": [
        "arr = np.array([[0, 1, 2], [3, 4, 5]])\n",
        "print('type(arr):',type(arr))\n",
        "print('arr.ndim:',arr.ndim)\n",
        "print('arr.dtype:',arr.dtype)\n",
        "print('arr.itemsize:',arr.itemsize)\n",
        "print('arr.size:',arr.size)\n",
        "print('arr.nbytes:',arr.nbytes)\n",
        "print('arr.shape:',arr.shape)\n",
        "print('arr:\\n',arr)\n",
        "print('arr.T:\\n',arr.T)\n",
        "print('arr.shape:',arr.shape)"
      ],
      "metadata": {
        "colab": {
          "base_uri": "https://localhost:8080/"
        },
        "id": "XOIl8dOKLcD7",
        "outputId": "545b3981-2451-4014-ed82-6eec2ddebcb9"
      },
      "execution_count": 12,
      "outputs": [
        {
          "output_type": "stream",
          "name": "stdout",
          "text": [
            "type(arr): <class 'numpy.ndarray'>\n",
            "arr.ndim: 2\n",
            "arr.dtype: int64\n",
            "arr.itemsize: 8\n",
            "arr.size: 6\n",
            "arr.nbytes: 48\n",
            "arr.shape: (2, 3)\n",
            "arr:\n",
            " [[0 1 2]\n",
            " [3 4 5]]\n",
            "arr.T:\n",
            " [[0 3]\n",
            " [1 4]\n",
            " [2 5]]\n",
            "arr.shape: (2, 3)\n"
          ]
        }
      ]
    },
    {
      "cell_type": "code",
      "source": [
        "a = np.arange(8)\n",
        "print('a\\n', a)\n",
        "\n",
        "a.shape = (2,4)\n",
        "print('shape\\n', a)\n",
        "\n",
        "print('flatten\\n', a.flatten( ))\n",
        "\n",
        "a.resize((4,2))\n",
        "print('resize\\n', a)\n",
        "b = a.transpose()\n",
        "print(b)"
      ],
      "metadata": {
        "colab": {
          "base_uri": "https://localhost:8080/"
        },
        "id": "CTi6dz-XLg4d",
        "outputId": "1581107a-c5f4-46a9-c488-541e7b71f178"
      },
      "execution_count": 15,
      "outputs": [
        {
          "output_type": "stream",
          "name": "stdout",
          "text": [
            "a\n",
            " [0 1 2 3 4 5 6 7]\n",
            "shape\n",
            " [[0 1 2 3]\n",
            " [4 5 6 7]]\n",
            "flatten\n",
            " [0 1 2 3 4 5 6 7]\n",
            "resize\n",
            " [[0 1]\n",
            " [2 3]\n",
            " [4 5]\n",
            " [6 7]]\n",
            "[[0 2 4 6]\n",
            " [1 3 5 7]]\n"
          ]
        }
      ]
    },
    {
      "cell_type": "code",
      "source": [
        "a = np.array([[0, 1, 2], [3, 4, 5]])\n",
        "print('a\\n', a)\n",
        "b = a.transpose( )\n",
        "print('b\\n', b)\n",
        "c = a.T\n",
        "print('c\\n', c)"
      ],
      "metadata": {
        "colab": {
          "base_uri": "https://localhost:8080/"
        },
        "id": "Fli23BevLk-S",
        "outputId": "dbc24f56-aebf-4847-e2a9-d1a5fa4fe7e8"
      },
      "execution_count": 16,
      "outputs": [
        {
          "output_type": "stream",
          "name": "stdout",
          "text": [
            "a\n",
            " [[0 1 2]\n",
            " [3 4 5]]\n",
            "b\n",
            " [[0 3]\n",
            " [1 4]\n",
            " [2 5]]\n",
            "c\n",
            " [[0 3]\n",
            " [1 4]\n",
            " [2 5]]\n"
          ]
        }
      ]
    },
    {
      "cell_type": "code",
      "source": [
        "mask = np.array([0, 1, 1, 0], dtype=bool)\n",
        "print(mask)\n",
        "data = np.random.randn(4,2)\n",
        "print('\\ndata 출력\\n',data) #랜덤 데이터 배열 data는 책과 다르게 나타남\n",
        "print('\\n마스킹된 데이터 출력\\n',data[mask])\n",
        "print('\\n마스킹 역전된 데이터 출력\\n',data[~mask])"
      ],
      "metadata": {
        "colab": {
          "base_uri": "https://localhost:8080/"
        },
        "id": "3jkmAmi9N_gD",
        "outputId": "06300010-51cb-49eb-c696-8f10efa4f17c"
      },
      "execution_count": 17,
      "outputs": [
        {
          "output_type": "stream",
          "name": "stdout",
          "text": [
            "[False  True  True False]\n",
            "\n",
            "data 출력\n",
            " [[ 0.46972224  0.35779419]\n",
            " [ 0.55574292 -1.26072426]\n",
            " [ 2.30261075 -0.04701626]\n",
            " [-1.28798932 -0.89082364]]\n",
            "\n",
            "마스킹된 데이터 출력\n",
            " [[ 0.55574292 -1.26072426]\n",
            " [ 2.30261075 -0.04701626]]\n",
            "\n",
            "마스킹 역전된 데이터 출력\n",
            " [[ 0.46972224  0.35779419]\n",
            " [-1.28798932 -0.89082364]]\n"
          ]
        }
      ]
    },
    {
      "cell_type": "code",
      "source": [
        "posit = data[data > 0]\n",
        "print('양수 데이터 출력', '\\n',posit)\n",
        "\n",
        "over1 = data[1][data[1] > 0]\n",
        "print('두 번째 행의 양수 데이터 출력','\\n',over1)"
      ],
      "metadata": {
        "colab": {
          "base_uri": "https://localhost:8080/"
        },
        "id": "FttI3lOpOk66",
        "outputId": "427f585f-7f89-4e29-af76-fae5a4507a88"
      },
      "execution_count": 18,
      "outputs": [
        {
          "output_type": "stream",
          "name": "stdout",
          "text": [
            "양수 데이터 출력 \n",
            " [0.46972224 0.35779419 0.55574292 2.30261075]\n",
            "두 번째 행의 양수 데이터 출력 \n",
            " [0.55574292]\n"
          ]
        }
      ]
    },
    {
      "cell_type": "code",
      "source": [
        "a = np.arange(6)\n",
        "b = a\n",
        "print(a)\n",
        "print(b is a)\n",
        "\n",
        "b[0] = 10\n",
        "print(a)"
      ],
      "metadata": {
        "colab": {
          "base_uri": "https://localhost:8080/"
        },
        "id": "li1cDU8LSWoi",
        "outputId": "e47d7da6-d5d0-4a9a-a0b5-9a0cca2227e1"
      },
      "execution_count": 19,
      "outputs": [
        {
          "output_type": "stream",
          "name": "stdout",
          "text": [
            "[0 1 2 3 4 5]\n",
            "True\n",
            "[10  1  2  3  4  5]\n"
          ]
        }
      ]
    },
    {
      "cell_type": "code",
      "source": [
        "a = np.arange(6)\n",
        "c = a.copy( )\n",
        "\n",
        "c[0] = 20\n",
        "print('A: ', a)\n",
        "print('C: ', c)"
      ],
      "metadata": {
        "colab": {
          "base_uri": "https://localhost:8080/"
        },
        "id": "irlcmcxfSbB4",
        "outputId": "4754a797-57fd-4113-a9f1-4fd47e25e68c"
      },
      "execution_count": 20,
      "outputs": [
        {
          "output_type": "stream",
          "name": "stdout",
          "text": [
            "A:  [0 1 2 3 4 5]\n",
            "C:  [20  1  2  3  4  5]\n"
          ]
        }
      ]
    },
    {
      "cell_type": "code",
      "source": [
        "a = np.array([3, 2, 5, 1, 4])\n",
        "\n",
        "print('원본\\n',a)\n",
        "print('정렬 후\\n',np.sort(a))\n",
        "\n",
        "print('원본\\n',a)\n",
        "print('정렬한 인덱스\\n',np.argsort(a))\n",
        "\n",
        "a.sort( )\n",
        "print('원본\\n',a)"
      ],
      "metadata": {
        "colab": {
          "base_uri": "https://localhost:8080/"
        },
        "id": "-NQRwttgTEqS",
        "outputId": "92af9752-9d1b-4858-ed61-4c1cb7ce319a"
      },
      "execution_count": 21,
      "outputs": [
        {
          "output_type": "stream",
          "name": "stdout",
          "text": [
            "원본\n",
            " [3 2 5 1 4]\n",
            "정렬 후\n",
            " [1 2 3 4 5]\n",
            "원본\n",
            " [3 2 5 1 4]\n",
            "정렬한 인덱스\n",
            " [3 1 0 4 2]\n",
            "원본\n",
            " [1 2 3 4 5]\n"
          ]
        }
      ]
    },
    {
      "cell_type": "code",
      "source": [
        "a = np.array([1,2,3])\n",
        "b = np.array([5])\n",
        "c = a + b\n",
        "print(a)\n",
        "print(b)\n",
        "print(c)"
      ],
      "metadata": {
        "colab": {
          "base_uri": "https://localhost:8080/"
        },
        "id": "kq_QzQPaTynH",
        "outputId": "003a6e1f-a1c8-484b-adc9-1c556c3f56fb"
      },
      "execution_count": 22,
      "outputs": [
        {
          "output_type": "stream",
          "name": "stdout",
          "text": [
            "[1 2 3]\n",
            "[5]\n",
            "[6 7 8]\n"
          ]
        }
      ]
    },
    {
      "cell_type": "code",
      "source": [
        "import matplotlib.pyplot as plt\n",
        "import numpy as np\n",
        "\n",
        "x = []\n",
        "x = np.random.randn(10000)\n",
        "print(x)\n",
        "plt.hist(x, bins = 100)\n",
        "plt.show()\n",
        "print(np.mean(x))\n",
        "print(np.std(x))"
      ],
      "metadata": {
        "colab": {
          "base_uri": "https://localhost:8080/",
          "height": 503
        },
        "id": "kDWD6MmqUF4A",
        "outputId": "365ed90c-ce5f-48e8-a1a3-2f201960da72"
      },
      "execution_count": 25,
      "outputs": [
        {
          "output_type": "stream",
          "name": "stdout",
          "text": [
            "[ 0.68436094 -0.18410957  0.31239595 ...  1.96414004 -0.30386318\n",
            "  0.2895451 ]\n"
          ]
        },
        {
          "output_type": "display_data",
          "data": {
            "text/plain": [
              "<Figure size 640x480 with 1 Axes>"
            ],
            "image/png": "[encoded data removed]"
          },
          "metadata": {}
        },
        {
          "output_type": "stream",
          "name": "stdout",
          "text": [
            "0.005722342555640387\n",
            "1.0029511019005364\n"
          ]
        }
      ]
    },
    {
      "cell_type": "code",
      "source": [
        "import numpy as np\n",
        "data = np.loadtxt('chocolate_rating.csv', delimiter=',')\n",
        "print('차원:', data.ndim)\n",
        "print('모양:', data.shape)\n",
        "print('원소 수:', data.size)\n",
        "print(data)"
      ],
      "metadata": {
        "colab": {
          "base_uri": "https://localhost:8080/"
        },
        "id": "7xJ7he76V-mG",
        "outputId": "22f23ea4-7432-4d73-91a0-7326c91db5ed"
      },
      "execution_count": 27,
      "outputs": [
        {
          "output_type": "stream",
          "name": "stdout",
          "text": [
            "차원: 2\n",
            "모양: (1795, 4)\n",
            "원소 수: 7180\n",
            "[[1.000e+00 2.016e+03 6.300e-01 3.750e+00]\n",
            " [2.000e+00 2.015e+03 7.000e-01 2.750e+00]\n",
            " [3.000e+00 2.015e+03 7.000e-01 3.000e+00]\n",
            " ...\n",
            " [1.793e+03 2.011e+03 6.500e-01 3.500e+00]\n",
            " [1.794e+03 2.011e+03 6.200e-01 3.250e+00]\n",
            " [1.795e+03 2.010e+03 6.500e-01 3.000e+00]]\n"
          ]
        }
      ]
    },
    {
      "cell_type": "code",
      "source": [
        "ratings_mean = data[:,3].mean( )\n",
        "print(ratings_mean)"
      ],
      "metadata": {
        "colab": {
          "base_uri": "https://localhost:8080/"
        },
        "id": "3fqz-en6WCWb",
        "outputId": "5a135277-ab5e-42df-d879-3cd5cf880783"
      },
      "execution_count": 28,
      "outputs": [
        {
          "output_type": "stream",
          "name": "stdout",
          "text": [
            "3.185933147632312\n"
          ]
        }
      ]
    },
    {
      "cell_type": "code",
      "source": [
        "high_level = data[data[:,3] >= 4]\n",
        "high_id = high_level[:,0].astype(np.int64)\n",
        "print('우수 초콜릿 수:', high_id.size)\n",
        "print(high_id)"
      ],
      "metadata": {
        "colab": {
          "base_uri": "https://localhost:8080/"
        },
        "id": "C4lgvUciWSi3",
        "outputId": "7b558744-6dd9-4711-d46c-5a8b2fe5a81b"
      },
      "execution_count": 29,
      "outputs": [
        {
          "output_type": "stream",
          "name": "stdout",
          "text": [
            "우수 초콜릿 수: 100\n",
            "[  10   18   21   55   57   77   78   79   84   87   88   93  108  109\n",
            "  118  124  153  180  181  187  223  232  233  240  243  244  245  248\n",
            "  257  312  316  317  358  437  503  567  573  574  582  601  650  687\n",
            "  690  691  701  720  730  800  828  862  864  865  866  883  919  993\n",
            " 1088 1089 1118 1119 1120 1204 1241 1245 1247 1274 1277 1278 1289 1291\n",
            " 1293 1295 1323 1331 1336 1378 1394 1426 1428 1433 1479 1488 1513 1516\n",
            " 1529 1530 1531 1533 1536 1537 1544 1545 1664 1683 1686 1688 1694 1700\n",
            " 1740 1757]\n"
          ]
        }
      ]
    },
    {
      "cell_type": "code",
      "source": [
        "high_kakao = high_level[:,2]\n",
        "unique_values, value_counts = np.unique(high_kakao, return_counts=True)\n",
        "print('카카오 함유량:', unique_values)\n",
        "print('함유량별 빈도수:', value_counts)"
      ],
      "metadata": {
        "colab": {
          "base_uri": "https://localhost:8080/"
        },
        "id": "8jLRYdiwWTm-",
        "outputId": "0941433a-2ce4-496d-df13-6d729b6f5368"
      },
      "execution_count": 30,
      "outputs": [
        {
          "output_type": "stream",
          "name": "stdout",
          "text": [
            "카카오 함유량: [0.6  0.63 0.64 0.65 0.66 0.67 0.68 0.69 0.7  0.71 0.72 0.73 0.74 0.75\n",
            " 0.78 0.8  0.88]\n",
            "함유량별 빈도수: [ 1  3  4  2  1  3  2  2 45  1 11  1  4 17  1  1  1]\n"
          ]
        }
      ]
    },
    {
      "cell_type": "markdown",
      "source": [
        "숙제)high_kakao 를 이용하여 히스토그램을 그리기\n",
        "x축 카카오 함량, y축 개수 레이블 넣기\n",
        "격자나 색깔 다양하게 추가해보기"
      ],
      "metadata": {
        "id": "kedVwOl8YCjf"
      }
    }
  ]
}